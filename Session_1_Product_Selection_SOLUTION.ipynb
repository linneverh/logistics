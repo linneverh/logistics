{
  "nbformat": 4,
  "nbformat_minor": 0,
  "metadata": {
    "colab": {
      "provenance": [],
      "toc_visible": true,
      "include_colab_link": true
    },
    "kernelspec": {
      "name": "python3",
      "display_name": "Python 3"
    },
    "language_info": {
      "name": "python"
    }
  },
  "cells": [
    {
      "cell_type": "markdown",
      "metadata": {
        "id": "view-in-github",
        "colab_type": "text"
      },
      "source": [
        "<a href=\"https://colab.research.google.com/github/linneverh/logistics/blob/main/Session_1_Product_Selection_SOLUTION.ipynb\" target=\"_parent\"><img src=\"https://colab.research.google.com/assets/colab-badge.svg\" alt=\"Open In Colab\"/></a>"
      ]
    },
    {
      "cell_type": "markdown",
      "source": [
        "# Product selection problem\n",
        "\n",
        "**Text:** A company has the capacity to produce two types of products, A and B, using available resources. Product A has a profit margin of 300 CHF per unit, while product B has a profit margin of 240 CHF per unit. Each unit of product A requires 240 units of components, while each unit of product B requires 144 units. Additionally, both products require 60 minutes for assembly.\n",
        "Given that the company has 24,000 units of components and 16 days of production time, with each day consisting of 8 hours of total productive time, the objective is to determine the optimal quantities of products A and B to produce in order to maximize profit.\n"
      ],
      "metadata": {
        "id": "rIfrRe0ShI3d"
      }
    },
    {
      "cell_type": "code",
      "execution_count": 1,
      "metadata": {
        "id": "1-kqefAieCQo",
        "outputId": "a6f5b3e8-618f-4029-93ca-6fd8f8b0caf1",
        "colab": {
          "base_uri": "https://localhost:8080/"
        }
      },
      "outputs": [
        {
          "output_type": "stream",
          "name": "stdout",
          "text": [
            "Collecting ortools\n",
            "  Downloading ortools-9.12.4544-cp311-cp311-manylinux_2_27_x86_64.manylinux_2_28_x86_64.whl.metadata (3.3 kB)\n",
            "Collecting absl-py>=2.0.0 (from ortools)\n",
            "  Downloading absl_py-2.1.0-py3-none-any.whl.metadata (2.3 kB)\n",
            "Requirement already satisfied: numpy>=1.13.3 in /usr/local/lib/python3.11/dist-packages (from ortools) (1.26.4)\n",
            "Requirement already satisfied: pandas>=2.0.0 in /usr/local/lib/python3.11/dist-packages (from ortools) (2.2.2)\n",
            "Collecting protobuf<5.30,>=5.29.3 (from ortools)\n",
            "  Downloading protobuf-5.29.3-cp38-abi3-manylinux2014_x86_64.whl.metadata (592 bytes)\n",
            "Requirement already satisfied: immutabledict>=3.0.0 in /usr/local/lib/python3.11/dist-packages (from ortools) (4.2.1)\n",
            "Requirement already satisfied: python-dateutil>=2.8.2 in /usr/local/lib/python3.11/dist-packages (from pandas>=2.0.0->ortools) (2.8.2)\n",
            "Requirement already satisfied: pytz>=2020.1 in /usr/local/lib/python3.11/dist-packages (from pandas>=2.0.0->ortools) (2025.1)\n",
            "Requirement already satisfied: tzdata>=2022.7 in /usr/local/lib/python3.11/dist-packages (from pandas>=2.0.0->ortools) (2025.1)\n",
            "Requirement already satisfied: six>=1.5 in /usr/local/lib/python3.11/dist-packages (from python-dateutil>=2.8.2->pandas>=2.0.0->ortools) (1.17.0)\n",
            "Downloading ortools-9.12.4544-cp311-cp311-manylinux_2_27_x86_64.manylinux_2_28_x86_64.whl (24.9 MB)\n",
            "\u001b[2K   \u001b[90m━━━━━━━━━━━━━━━━━━━━━━━━━━━━━━━━━━━━━━━━\u001b[0m \u001b[32m24.9/24.9 MB\u001b[0m \u001b[31m19.5 MB/s\u001b[0m eta \u001b[36m0:00:00\u001b[0m\n",
            "\u001b[?25hDownloading absl_py-2.1.0-py3-none-any.whl (133 kB)\n",
            "\u001b[2K   \u001b[90m━━━━━━━━━━━━━━━━━━━━━━━━━━━━━━━━━━━━━━━━\u001b[0m \u001b[32m133.7/133.7 kB\u001b[0m \u001b[31m8.1 MB/s\u001b[0m eta \u001b[36m0:00:00\u001b[0m\n",
            "\u001b[?25hDownloading protobuf-5.29.3-cp38-abi3-manylinux2014_x86_64.whl (319 kB)\n",
            "\u001b[2K   \u001b[90m━━━━━━━━━━━━━━━━━━━━━━━━━━━━━━━━━━━━━━━━\u001b[0m \u001b[32m319.7/319.7 kB\u001b[0m \u001b[31m19.3 MB/s\u001b[0m eta \u001b[36m0:00:00\u001b[0m\n",
            "\u001b[?25hInstalling collected packages: protobuf, absl-py, ortools\n",
            "  Attempting uninstall: protobuf\n",
            "    Found existing installation: protobuf 4.25.6\n",
            "    Uninstalling protobuf-4.25.6:\n",
            "      Successfully uninstalled protobuf-4.25.6\n",
            "  Attempting uninstall: absl-py\n",
            "    Found existing installation: absl-py 1.4.0\n",
            "    Uninstalling absl-py-1.4.0:\n",
            "      Successfully uninstalled absl-py-1.4.0\n",
            "Successfully installed absl-py-2.1.0 ortools-9.12.4544 protobuf-5.29.3\n"
          ]
        }
      ],
      "source": [
        "!pip3 install ortools"
      ]
    },
    {
      "cell_type": "code",
      "source": [
        "from ortools.linear_solver import pywraplp"
      ],
      "metadata": {
        "id": "HOjPvoB9f9Y0"
      },
      "execution_count": null,
      "outputs": []
    },
    {
      "cell_type": "markdown",
      "source": [
        "\n",
        "Objective:\n",
        "Maximize profit by determining the optimal quantities of products A and B to produce.\n",
        "\n",
        "Constraints:\n",
        "1. Limited availability of 24,000 units of components.\n",
        "2. Limited production time of 16 days, each comprising 8 hours of productive time per day.\n",
        "\n",
        "Decision Variables:\n",
        "Let $x$ represent the quantity of product A produced.\n",
        "Let $y$ represent the quantity of product B produced.\n",
        "\n",
        "Mathematical Formulation:\n",
        "Maximize: $300x + 240y$ (Total profit)\n",
        "\n",
        "Subject to:\n",
        "1. $240x + 144y \\leq 24,000$ (Component availability constraint)\n",
        "2. $60x + 60y \\leq 16 \\cdot 8 \\cdot 60$ (Production time constraint)\n",
        "\n",
        "Where:\n",
        "- $x \\geq 0$ (Non-negativity constraint for product A)\n",
        "- $y \\geq 0$ (Non-negativity constraint for product B)\n",
        "\n",
        "The goal is to find the values of $x$ and $y$ that satisfy the constraints and maximize the total profit."
      ],
      "metadata": {
        "id": "8QdsMoeW7L5Z"
      }
    },
    {
      "cell_type": "code",
      "source": [
        "# Solver\n",
        "solver = pywraplp.Solver.CreateSolver('CBC')\n",
        "\n",
        "# Variables\n",
        "x = solver.IntVar(0, solver.infinity(), 'x')\n",
        "y = solver.IntVar(0, solver.infinity(), 'y')"
      ],
      "metadata": {
        "id": "fAnS4LVAeJGo"
      },
      "execution_count": null,
      "outputs": []
    },
    {
      "cell_type": "code",
      "source": [
        "solver.Add(240*x + 144*y <= 24000)\n",
        "solver.Add(60*x + 60*y <= 7680)\n",
        "\n",
        "solver.Maximize (300*x + 240*y)\n",
        "\n",
        "# Solve the system.\n",
        "status = solver.Solve()\n",
        "if status == pywraplp.Solver.OPTIMAL:\n",
        "    print('Solution:')\n",
        "    print('Objective value =', solver.Objective().Value())\n",
        "    print('A =', x.solution_value())\n",
        "    print('B =', y.solution_value())\n",
        "else:\n",
        "    print('The problem does not have an optimal solution.')\n",
        "\n",
        "    print('\\nAdvanced usage:')\n",
        "    print('Problem solved in %f milliseconds' % solver.wall_time())\n",
        "    print('Problem solved in %d iterations' % solver.iterations())\n",
        "    print('Problem solved in %d branch-and-bound nodes' % solver.nodes())"
      ],
      "metadata": {
        "colab": {
          "base_uri": "https://localhost:8080/"
        },
        "id": "GUUZkVNdfDh6",
        "outputId": "562428c8-d59b-4fc7-97a5-bf537605138c"
      },
      "execution_count": null,
      "outputs": [
        {
          "output_type": "stream",
          "name": "stdout",
          "text": [
            "Solution:\n",
            "Objective value = 34200.0\n",
            "A = 58.0\n",
            "B = 70.0\n"
          ]
        }
      ]
    }
  ]
}